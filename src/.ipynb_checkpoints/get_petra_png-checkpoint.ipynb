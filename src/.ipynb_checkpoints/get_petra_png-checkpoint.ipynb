{
 "cells": [
  {
   "cell_type": "code",
   "execution_count": 1,
   "metadata": {},
   "outputs": [
    {
     "ename": "ModuleNotFoundError",
     "evalue": "No module named 'cv2'",
     "output_type": "error",
     "traceback": [
      "\u001b[0;31m---------------------------------------------------------------------------\u001b[0m",
      "\u001b[0;31mModuleNotFoundError\u001b[0m                       Traceback (most recent call last)",
      "Cell \u001b[0;32mIn[1], line 5\u001b[0m\n\u001b[1;32m      3\u001b[0m \u001b[38;5;28;01mimport\u001b[39;00m \u001b[38;5;21;01mos\u001b[39;00m\n\u001b[1;32m      4\u001b[0m \u001b[38;5;28;01mfrom\u001b[39;00m \u001b[38;5;21;01mPIL\u001b[39;00m \u001b[38;5;28;01mimport\u001b[39;00m Image\n\u001b[0;32m----> 5\u001b[0m \u001b[38;5;28;01mimport\u001b[39;00m \u001b[38;5;21;01mcv2\u001b[39;00m\n\u001b[1;32m      6\u001b[0m \u001b[38;5;28;01mimport\u001b[39;00m \u001b[38;5;21;01mstaintools\u001b[39;00m\n",
      "\u001b[0;31mModuleNotFoundError\u001b[0m: No module named 'cv2'"
     ]
    }
   ],
   "source": [
    "import tifffile # needs to be 2023 or higher due to OME.TIFF metadata\n",
    "import numpy as np\n",
    "import os\n",
    "from PIL import Image\n",
    "import cv2\n",
    "import staintools"
   ]
  },
  {
   "cell_type": "code",
   "execution_count": null,
   "metadata": {},
   "outputs": [],
   "source": [
    "#inputs\n",
    "\n",
    "imgfile = \"/projects/wangc/brenna/DeepCSeg_test/ROI_01.ome.tif\""
   ]
  },
  {
   "cell_type": "code",
   "execution_count": null,
   "metadata": {},
   "outputs": [],
   "source": [
    "if os.path.isfile(imgfile) :\n",
    "    print(imgfile)\n",
    "    img = tifffile.imread(imgfile)\n",
    "\n",
    "    im1 = img[0]\n",
    "    im1_image = Image.fromarray(im1)\n",
    "    im1_image.save(\"/projects/wangc/rohan/DeepCSeg_test/dapi_img/ROI_01_DAPI.png\")\n",
    "\n",
    "\n",
    "    im2 = img[44]\n",
    "    im2_image = Image.fromarray(im2)\n",
    "    im2_image.save(\"/projects/wangc/rohan/DeepCSeg_test/membrane_img/ROI_01_NaKATPase.png\")\n",
    "\n",
    "    im3 = img[45]\n",
    "    im3_image = Image.fromarray(im3)\n",
    "    im3_image.save(\"/projects/wangc/rohan/DeepCSeg_test/biomarker_img/ROI_01_PCK.png\")\n",
    "\n",
    "    \n",
    "def transform_image(target_path, to_transform_path):\n",
    "    target = staintools.read_image(target_path)\n",
    "    to_transform = staintools.read_image(to_transform_path)\n",
    "\n",
    "    # Standardize brightness (optional, can improve the tissue mask calculation)\n",
    "    target = staintools.LuminosityStandardizer.standardize(target)\n",
    "    to_transform = staintools.LuminosityStandardizer.standardize(to_transform)\n",
    "\n",
    "    # Stain normalize\n",
    "    normalizer = staintools.StainNormalizer(method='vahadane')\n",
    "    normalizer.fit(target)\n",
    "    transformed = normalizer.transform(to_transform)\n",
    "    return(transformed)"
   ]
  },
  {
   "cell_type": "code",
   "execution_count": null,
   "metadata": {},
   "outputs": [],
   "source": [
    "image = cv2.imread(\"//projects/wangc/rohan/DeepCSeg_test/membrane_img/ROI_01_NaKATPase.png\",0)\n",
    "normalized_image = cv2.equalizeHist(image)\n",
    "cv2.imwrite('/projects/wangc/rohan/DeepCSeg_test/membrane_img/normalized_region_ROI_01_NaKATPase.png', normalized_image)\n",
    "\n",
    "\n",
    "target = staintools.read_image(\"/projects/wangc/rohan/DeepCSeg_test/membrane_img/Spot2_ROI2_NaKATPase.png\")\n",
    "to_transform = staintools.read_image(\"/projects/wangc/rohan/DeepCSeg_test/membrane_img/normalized_region_ROI_01_NaKATPase.png\")\n",
    "\n",
    "target = staintools.LuminosityStandardizer.standardize(target)\n",
    "to_transform = staintools.LuminosityStandardizer.standardize(to_transform)\n",
    "normalizer = staintools.StainNormalizer(method='vahadane')\n",
    "normalizer.fit(target)\n",
    "\n",
    "transformed = normalizer.transform(to_transform)\n",
    "cv2.imwrite('/projects/wangc/rohan/DeepCSeg_test/membrane_img/normalized_to_example_H-13_NaKATPase.png', transformed)\n",
    "\n",
    "transformed_region_002_dapi = transform_image(\"/projects/wangc/brenna/DeepCSeg_test/dapi_img/Spot2_ROI2_DAPI.png\", \"/projects/wangc/brenna/DeepCSeg_test/dapi_img/region_002_DAPI.png\")\n",
    "cv2.imwrite('/projects/wangc/rohan/DeepCSeg_test/dapi_img/normalized_to_example_region_002_DAPI.png', transformed_region_002_dapi)\n",
    "\n",
    "transformed_region_002_dapi = transform_image(\"/projects/wangc/brenna/DeepCSeg_test/dapi_img/Spot2_ROI2_DAPI.png\", \"/projects/wangc/brenna/DeepCSeg_test/dapi_img/H-13_DAPI.png\")\n",
    "cv2.imwrite('/projects/wangc/rohan/DeepCSeg_test/dapi_img/normalized_to_example_H-13_DAPI.png', transformed_region_002_dapi)\n"
   ]
  }
 ],
 "metadata": {
  "kernelspec": {
   "display_name": "Python 3",
   "language": "python",
   "name": "python3"
  },
  "language_info": {
   "codemirror_mode": {
    "name": "ipython",
    "version": 3
   },
   "file_extension": ".py",
   "mimetype": "text/x-python",
   "name": "python",
   "nbconvert_exporter": "python",
   "pygments_lexer": "ipython3",
   "version": "3.10.15"
  }
 },
 "nbformat": 4,
 "nbformat_minor": 2
}
